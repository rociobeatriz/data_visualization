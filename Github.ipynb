{
  "nbformat": 4,
  "nbformat_minor": 0,
  "metadata": {
    "colab": {
      "name": "Github-GoogleDrive-GoogleColab.ipynb",
      "provenance": [],
      "collapsed_sections": [],
      "toc_visible": true,
      "include_colab_link": true
    },
    "kernelspec": {
      "name": "python3",
      "display_name": "Python 3"
    }
  },
  "cells": [
    {
      "cell_type": "markdown",
      "metadata": {
        "id": "view-in-github",
        "colab_type": "text"
      },
      "source": [
        "<a href=\"https://colab.research.google.com/github/rociobeatriz/data_visualization/blob/master/Github.ipynb\" target=\"_parent\"><img src=\"https://colab.research.google.com/assets/colab-badge.svg\" alt=\"Open In Colab\"/></a>"
      ]
    },
    {
      "cell_type": "markdown",
      "metadata": {
        "id": "0b68U9SEpVnO",
        "colab_type": "text"
      },
      "source": [
        "## Github-GoogleDrive-GoogleColab Setup\n",
        "\n",
        "0. GoogleDrive: Andare su Google Drive creasi una cartella chiamata \"data_visualization\". Create un nuovo google colab file oppure aprite un Google-Colab del corso [data-visualization](https://github.com/visiont3lab/data-visualization), salvatelo e spostatelo in questa cartella.\n",
        "1. Github: Andare su [Github](https://github.com/) e creare un account \n",
        "2. Github: Creare un repository chiamato \"seaborn-data-visualization\" e creare un README.md di default.\n",
        "3. GoogleColab: Editare il seguent notebook aggiugendo codice o commenti.\n",
        "4. GoogleColab: Salvare il contenuto su Git (Save a Copy in Github)\n",
        "5. Github: Creare un file index.html con scritto dentro \"Test\" . Questa sarà la nostra pagine web di partenza. Più informazioni a  [Github Web Pages](https://pages.github.com/).\n",
        "6. Github: Vai su settings e cerchimao \"Github Pages\". Lo abilitiamo scegliendo \"master-branch. Possiamo anche scegliere un tema nella sezione \"Theme Choser\".\n",
        "Dovrebbe essere comparso sotto \"Github Pages\"\n",
        "> Your site is ready to be published at https://visiont3lab.github.io/seaborn-data-visualization/.\n",
        "7. GoogleColab: Convertire notebook (ipynb) in html e scaricalo localmente\n",
        "8. Github: Caricare il file html scaricato su Github. Importare è che il nome del file sia \"index.html\" "
      ]
    },
    {
      "cell_type": "markdown",
      "metadata": {
        "id": "GO3mNLjE5UwK",
        "colab_type": "text"
      },
      "source": [
        "## Convertire un notebook (ipynb) contenuto in un repository GIT (Github) in html"
      ]
    },
    {
      "cell_type": "code",
      "metadata": {
        "id": "T4i4vq2x4Bj-",
        "colab_type": "code",
        "outputId": "8b62c7c3-0b46-48b8-8c24-761b7e34b1ca",
        "colab": {
          "base_uri": "https://localhost:8080/",
          "height": 122
        }
      },
      "source": [
        "!git clone https://github.com/visiont3lab/seaborn-data-visualization.git"
      ],
      "execution_count": 0,
      "outputs": [
        {
          "output_type": "stream",
          "text": [
            "Cloning into 'seaborn-data-visualization'...\n",
            "remote: Enumerating objects: 9, done.\u001b[K\n",
            "remote: Counting objects: 100% (9/9), done.\u001b[K\n",
            "remote: Compressing objects: 100% (7/7), done.\u001b[K\n",
            "remote: Total 9 (delta 1), reused 0 (delta 0), pack-reused 0\u001b[K\n",
            "Unpacking objects: 100% (9/9), done.\n"
          ],
          "name": "stdout"
        }
      ]
    },
    {
      "cell_type": "code",
      "metadata": {
        "id": "hilAtz6W4N9u",
        "colab_type": "code",
        "outputId": "661033ab-f884-4e27-f828-0dcc32729d17",
        "colab": {
          "base_uri": "https://localhost:8080/",
          "height": 52
        }
      },
      "source": [
        "%cd seaborn-data-visualization/\n",
        "!ls"
      ],
      "execution_count": 0,
      "outputs": [
        {
          "output_type": "stream",
          "text": [
            "/content/seaborn-data-visualization\n",
            "Github_GOOGLEColab.ipynb  index.html  README.md\n"
          ],
          "name": "stdout"
        }
      ]
    },
    {
      "cell_type": "code",
      "metadata": {
        "id": "y4FcX8Do4Sn4",
        "colab_type": "code",
        "outputId": "7af8c3c7-4ee2-44a6-df92-4ac99d266011",
        "colab": {
          "base_uri": "https://localhost:8080/",
          "height": 70
        }
      },
      "source": [
        "#jupyter nbconvert --to <output format> <filename.ipynb>\n",
        "!jupyter nbconvert --to html Github_GOOGLEColab.ipynb\n",
        "!ls"
      ],
      "execution_count": 0,
      "outputs": [
        {
          "output_type": "stream",
          "text": [
            "[NbConvertApp] Converting notebook Github_GOOGLEColab.ipynb to html\n",
            "[NbConvertApp] Writing 274084 bytes to Github_GOOGLEColab.html\n",
            "Github_GOOGLEColab.html  Github_GOOGLEColab.ipynb  index.html  README.md\n"
          ],
          "name": "stdout"
        }
      ]
    },
    {
      "cell_type": "markdown",
      "metadata": {
        "id": "efodPTLPjyqv",
        "colab_type": "text"
      },
      "source": [
        "## Convertire un notebook (ipynb) contenuto in un repository GOOGLE DRIVE in html"
      ]
    },
    {
      "cell_type": "code",
      "metadata": {
        "id": "TSMkktj-WhZs",
        "colab_type": "code",
        "colab": {
          "base_uri": "https://localhost:8080/",
          "height": 121
        },
        "outputId": "b07af22f-506f-4d2c-d99a-b3c3f7c0d9cb"
      },
      "source": [
        "from google.colab import drive\n",
        "drive.mount('/content/drive')"
      ],
      "execution_count": 1,
      "outputs": [
        {
          "output_type": "stream",
          "text": [
            "Go to this URL in a browser: https://accounts.google.com/o/oauth2/auth?client_id=947318989803-6bn6qk8qdgf4n4g3pfee6491hc0brc4i.apps.googleusercontent.com&redirect_uri=urn%3aietf%3awg%3aoauth%3a2.0%3aoob&response_type=code&scope=email%20https%3a%2f%2fwww.googleapis.com%2fauth%2fdocs.test%20https%3a%2f%2fwww.googleapis.com%2fauth%2fdrive%20https%3a%2f%2fwww.googleapis.com%2fauth%2fdrive.photos.readonly%20https%3a%2f%2fwww.googleapis.com%2fauth%2fpeopleapi.readonly\n",
            "\n",
            "Enter your authorization code:\n",
            "··········\n",
            "Mounted at /content/drive\n"
          ],
          "name": "stdout"
        }
      ]
    },
    {
      "cell_type": "code",
      "metadata": {
        "id": "-u2gM9i2kEue",
        "colab_type": "code",
        "outputId": "b3a464e3-d71b-4e47-80a2-5e0254c36462",
        "colab": {
          "base_uri": "https://localhost:8080/",
          "height": 34
        }
      },
      "source": [
        "from google.colab import drive\n",
        "drive.mount('/content/gdrive')"
      ],
      "execution_count": 0,
      "outputs": [
        {
          "output_type": "stream",
          "text": [
            "Drive already mounted at /content/gdrive; to attempt to forcibly remount, call drive.mount(\"/content/gdrive\", force_remount=True).\n"
          ],
          "name": "stdout"
        }
      ]
    },
    {
      "cell_type": "code",
      "metadata": {
        "id": "CvUpTyfMWvnS",
        "colab_type": "code",
        "colab": {
          "base_uri": "https://localhost:8080/",
          "height": 34
        },
        "outputId": "3c239a19-af7d-44c5-ae71-51d98d2cac4b"
      },
      "source": [
        "cd /content/drive/My Drive/FAV/Colab Notebooks"
      ],
      "execution_count": 2,
      "outputs": [
        {
          "output_type": "stream",
          "text": [
            "/content/drive/My Drive/FAV/Colab Notebooks\n"
          ],
          "name": "stdout"
        }
      ]
    },
    {
      "cell_type": "code",
      "metadata": {
        "id": "9P5l2tgEkEtq",
        "colab_type": "code",
        "outputId": "3fd56cc2-63b8-42b2-e97d-df5ed68b3882",
        "colab": {
          "base_uri": "https://localhost:8080/",
          "height": 255
        }
      },
      "source": [
        "!ls"
      ],
      "execution_count": 3,
      "outputs": [
        {
          "output_type": "stream",
          "text": [
            "'16 04_solut_tips.ipynb'\t       'iris (2).data'\n",
            " 1_Dani.ipynb\t\t\t        Iris.ipynb\n",
            " 1_Manu_Pandas.ipynb\t\t        lambda.ipynb\n",
            " 2_Dani_Esercizio.ipynb\t\t        numpy_test.csv\n",
            " 2_Dani_Intro.ipynb\t\t        Pandas_Esercizio_1_Manu.ipynb\n",
            " 3_Dani_Matplotlib.ipynb\t        Pandas_Esercizio_Manu_2.ipynb\n",
            " 4_Dani_Matplotlib.ipynb\t        Pandas_Esercizio_Soluzione_Manu.ipynb\n",
            " 5_Dani_Matplotlib.ipynb\t        pets.csv\n",
            " 9.2_housing.ipynb\t\t        __pycache__\n",
            " company_sales_data.csv\t\t        Rgressione_Iris.ipynb\n",
            " Dani_Iris.ipynb\t\t        Seaborn.ipynb\n",
            " funzioni.py\t\t\t        to_solve_tips.ipynb\n",
            " Github-GoogleDrive-GoogleColab.ipynb\n"
          ],
          "name": "stdout"
        }
      ]
    },
    {
      "cell_type": "code",
      "metadata": {
        "id": "FNSRXSODXQpb",
        "colab_type": "code",
        "colab": {}
      },
      "source": [
        "import pandas as pd\n",
        "df = pd.read_csv('pets.csv')"
      ],
      "execution_count": 0,
      "outputs": []
    },
    {
      "cell_type": "code",
      "metadata": {
        "id": "SExz6-2bkzab",
        "colab_type": "code",
        "outputId": "4f1c007e-b851-49b8-d788-487f893ab176",
        "colab": {
          "base_uri": "https://localhost:8080/",
          "height": 289
        }
      },
      "source": [
        "#jupyter nbconvert --to <output format> <filename.ipynb>\n",
        "!jupyter nbconvert --to html Seaborn.ipynb --output my.html\n",
        "!ls"
      ],
      "execution_count": 7,
      "outputs": [
        {
          "output_type": "stream",
          "text": [
            "[NbConvertApp] Converting notebook Seaborn.ipynb to html\n",
            "[NbConvertApp] Writing 1274220 bytes to my.html\n",
            "'16 04_solut_tips.ipynb'\t       'iris (2).data'\n",
            " 1_Dani.ipynb\t\t\t        Iris.ipynb\n",
            " 1_Manu_Pandas.ipynb\t\t        lambda.ipynb\n",
            " 2_Dani_Esercizio.ipynb\t\t        my.html\n",
            " 2_Dani_Intro.ipynb\t\t        numpy_test.csv\n",
            " 3_Dani_Matplotlib.ipynb\t        Pandas_Esercizio_1_Manu.ipynb\n",
            " 4_Dani_Matplotlib.ipynb\t        Pandas_Esercizio_Manu_2.ipynb\n",
            " 5_Dani_Matplotlib.ipynb\t        Pandas_Esercizio_Soluzione_Manu.ipynb\n",
            " 9.2_housing.ipynb\t\t        pets.csv\n",
            " company_sales_data.csv\t\t        __pycache__\n",
            " Dani_Iris.ipynb\t\t        Rgressione_Iris.ipynb\n",
            " funzioni.py\t\t\t        Seaborn.ipynb\n",
            " Github-GoogleDrive-GoogleColab.ipynb   to_solve_tips.ipynb\n"
          ],
          "name": "stdout"
        }
      ]
    },
    {
      "cell_type": "code",
      "metadata": {
        "id": "6E20AyFJordk",
        "colab_type": "code",
        "colab": {}
      },
      "source": [
        ""
      ],
      "execution_count": 0,
      "outputs": []
    }
  ]
}